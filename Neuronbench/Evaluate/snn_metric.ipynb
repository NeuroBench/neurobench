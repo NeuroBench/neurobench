{
 "cells": [
  {
   "cell_type": "code",
   "execution_count": 1,
   "metadata": {},
   "outputs": [],
   "source": [
    "from tqdm import tqdm\n",
    "import sys\n",
    "import os\n",
    "os.environ[\"CUDA_VISIBLE_DEVICES\"] = \"1\"\n",
    "import numpy as np\n",
    "sys.path.append('/home/shenqi/Master_thesis')\n",
    "import torch\n",
    "from collections import defaultdict\n",
    "\n",
    "from Neuronbench.utils.models import Vanilla, Vanilla_lif\n",
    "from Neuronbench.utils.dataset import seq_dataloader\n",
    "\n",
    "from metavision_ml.detection.anchors import Anchors\n",
    "from metavision_ml.detection.rpn import BoxHead\n",
    "from metavision_sdk_core import EventBbox\n",
    "\n",
    "import snnmetrics.snnmetrics as sm"
   ]
  },
  {
   "cell_type": "code",
   "execution_count": 2,
   "metadata": {},
   "outputs": [
    {
     "data": {
      "text/plain": [
       "<All keys matched successfully>"
      ]
     },
     "execution_count": 2,
     "metadata": {},
     "output_type": "execute_result"
    }
   ],
   "source": [
    "dataloader = seq_dataloader(num_tbins = 1, batch_size= 8)\n",
    "model = Vanilla_lif(cin = dataloader.in_channels, cout = 256, base = 16)\n",
    "box_coder = Anchors(num_levels=model.levels, anchor_list=\"PSEE_ANCHORS\", variances=[0.1, 0.2])\n",
    "head = BoxHead(model.cout, box_coder.num_anchors, len(dataloader.wanted_keys) + 1, 0)\n",
    "model = model.to('cuda')\n",
    "head = head.to('cuda')\n",
    "model.load_state_dict(torch.load('../train_hybrid_spikingRED/save_models/14_model.pth',map_location=torch.device('cuda')))\n",
    "head.load_state_dict(torch.load('../train_hybrid_spikingRED/save_models/14_pd.pth',map_location=torch.device('cuda')))\n"
   ]
  },
  {
   "cell_type": "code",
   "execution_count": 3,
   "metadata": {},
   "outputs": [
    {
     "name": "stderr",
     "output_type": "stream",
     "text": [
      "/home/shenqi/Master_thesis/venv_torch1_13_cu117/lib/python3.10/site-packages/pkg_resources/__init__.py:116: PkgResourcesDeprecationWarning: 0.1.43ubuntu1 is an invalid version and will not be supported in a future release\n",
      "  warnings.warn(\n",
      "/home/shenqi/Master_thesis/venv_torch1_13_cu117/lib/python3.10/site-packages/pkg_resources/__init__.py:116: PkgResourcesDeprecationWarning: 1.1build1 is an invalid version and will not be supported in a future release\n",
      "  warnings.warn(\n",
      "Testing: 100%|██████████████████████████████████████████████████████████████████████| 1200/1200 [01:06<00:00, 17.93it/s]"
     ]
    },
    {
     "name": "stdout",
     "output_type": "stream",
     "text": [
      "tensor(0.1169)\n"
     ]
    },
    {
     "name": "stderr",
     "output_type": "stream",
     "text": [
      "\n"
     ]
    }
   ],
   "source": [
    "synops = []\n",
    "synops.append(sm.SynOps(fanout=torch.ones([256,45,80])))\n",
    "synops.append(sm.SynOps(fanout=torch.ones([256,23,40])))\n",
    "synops.append(sm.SynOps(fanout=torch.ones([256,12,20])))\n",
    "synops.append(sm.SynOps(fanout=torch.ones([256,6,10])))\n",
    "synops.append(sm.SynOps(fanout=torch.ones([256,3,5])))\n",
    "batch_syn = [[] for _ in range(5)]\n",
    "\n",
    "\n",
    "output_val_list = []\n",
    "with tqdm(total=len(dataloader.seq_dataloader_test), desc=f'Testing',ncols=120) as pbar:\n",
    "    for data in dataloader.seq_dataloader_test:\n",
    "        pbar.update(1)\n",
    "        inputs = data['inputs'].to(device='cuda')\n",
    "        with torch.no_grad():\n",
    "            feature = model(inputs)\n",
    "            \n",
    "            for i, feat in enumerate(feature):\n",
    "                feature[i] = feature[i].to('cpu')\n",
    "                batch_syn[i] = synops[i](feature[i])\n",
    "       \n",
    "    print(batch_syn[0][\"synops_per_neuron\"].mean())"
   ]
  }
 ],
 "metadata": {
  "kernelspec": {
   "display_name": "venv_torch1_13_cu117",
   "language": "python",
   "name": "python3"
  },
  "language_info": {
   "codemirror_mode": {
    "name": "ipython",
    "version": 3
   },
   "file_extension": ".py",
   "mimetype": "text/x-python",
   "name": "python",
   "nbconvert_exporter": "python",
   "pygments_lexer": "ipython3",
   "version": "3.10.6"
  },
  "orig_nbformat": 4
 },
 "nbformat": 4,
 "nbformat_minor": 2
}
